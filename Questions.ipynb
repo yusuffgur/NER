{
  "cells": [
    {
      "cell_type": "markdown",
      "metadata": {
        "id": "_WF95vvAN7Ee"
      },
      "source": [
        "## Question 1"
      ]
    },
    {
      "cell_type": "code",
      "execution_count": null,
      "metadata": {
        "id": "NPRrnx-z_m5a",
        "vscode": {
          "languageId": "python"
        }
      },
      "outputs": [],
      "source": [
        "def countOccurance(mainArray, subArray):\n",
        "  # Define the window size\n",
        "  w = len(subArray)\n",
        "  # Number of occurance\n",
        "  count = 0\n",
        "  \n",
        "  # sliding window across the main array\n",
        "  for i in range(len(mainArray)-len(subArray)+1):\n",
        "    # Take elements from mainArray\n",
        "    search = []\n",
        "    for j in range(w):\n",
        "      search.append(mainArray[i+j])\n",
        "    # check if two array is equal\n",
        "    if isPattern(search, subArray):\n",
        "      count += 1    \n",
        "  return count"
      ]
    },
    {
      "cell_type": "code",
      "execution_count": null,
      "metadata": {
        "id": "WNO8MTdz2TZr",
        "vscode": {
          "languageId": "python"
        }
      },
      "outputs": [],
      "source": [
        "def isPattern(search, subArray):\n",
        "    isValid=0\n",
        "    if len(search) != len(subArray):\n",
        "      return False\n",
        "    for i in range (len(subArray)):\n",
        "      if search[i]==subArray[i]:\n",
        "        isValid += 1\n",
        "    if isValid==len(subArray):\n",
        "      return True\n",
        "    return False"
      ]
    },
    {
      "cell_type": "code",
      "execution_count": null,
      "metadata": {
        "colab": {
          "base_uri": "https://localhost:8080/"
        },
        "id": "qzDeG6P12p_E",
        "outputId": "e792e152-59f9-43ef-ee7f-23bc9b404051",
        "vscode": {
          "languageId": "python"
        }
      },
      "outputs": [
        {
          "name": "stdout",
          "output_type": "stream",
          "text": [
            "b) Occurance of array B in array A is 4\n"
          ]
        }
      ],
      "source": [
        "A = [1,2,30,5,3,5, 70, 9, 1, 2, 30, 44, 25,56,56, 6, 1, 2, 30, 50, 43, 654, 1,2,30]\n",
        "B = [1, 2, 30]\n",
        "\n",
        "print(\"1-b) Occurance of array B in array A is \" + str(countOccurance(A, B)))"
      ]
    },
    {
      "cell_type": "code",
      "execution_count": null,
      "metadata": {
        "colab": {
          "base_uri": "https://localhost:8080/"
        },
        "id": "JvHkvAnRCTO3",
        "outputId": "03cc821f-b7eb-4dc2-8d1f-b38ffada8da7",
        "vscode": {
          "languageId": "python"
        }
      },
      "outputs": [
        {
          "name": "stdout",
          "output_type": "stream",
          "text": [
            "c) Occurance of array B in array A is 4\n"
          ]
        }
      ],
      "source": [
        "import numpy as np\n",
        "\n",
        "# Convert int array to string\n",
        "def listToString(s):\n",
        "    # mapping int to string\n",
        "    s=map(str, s)\n",
        "    # return string \n",
        "    return (', '.join(s))\n",
        "\n",
        "# convert B to string\n",
        "arr_B = listToString(B)\n",
        "  \n",
        "# Counting sequence\n",
        "output = repr(A).count(arr_B)\n",
        "  \n",
        "# view output\n",
        "print(\"1-c) Occurance of array B in array A is \" + str(output))"
      ]
    },
    {
      "cell_type": "markdown",
      "metadata": {
        "id": "JvfrCd72N1GJ"
      },
      "source": [
        "## Question 2"
      ]
    },
    {
      "cell_type": "code",
      "execution_count": null,
      "metadata": {
        "id": "_SPy7t-rW2re",
        "vscode": {
          "languageId": "python"
        }
      },
      "outputs": [],
      "source": [
        "# 2-a)  if we want to use only one function from that library we can import only targeted function. \n",
        "#     We need to define variable X\n",
        "from math import ceil\n",
        "x=4.3\n",
        "x = ceil(x)"
      ]
    },
    {
      "cell_type": "code",
      "execution_count": null,
      "metadata": {
        "id": "aAhnPprJYx4a",
        "vscode": {
          "languageId": "python"
        }
      },
      "outputs": [],
      "source": [
        "# 2-b)  we can directly send each item to function.\n",
        "#     we need to define function\n",
        "def process_fruit(item):\n",
        "  print(item)\n",
        "list_of_fruits = [\"apple\", \"pear\", \"orange\"]\n",
        "for i in range(len(list_of_fruits)):\n",
        "  process_fruit(list_of_fruits[i])"
      ]
    },
    {
      "cell_type": "code",
      "execution_count": null,
      "metadata": {
        "id": "TNu0YmOlZx5H",
        "vscode": {
          "languageId": "python"
        }
      },
      "outputs": [],
      "source": [
        "# 2-c) an object takes two variable to initiate (\"height\" and \"weight\"). Can give area with area() function \n",
        "class Rectangle:\n",
        "  def __init__(self, height, width):\n",
        "    self.height = height\n",
        "    self.width = width\n",
        "  def area(self):\n",
        "    return self.height * self.width"
      ]
    },
    {
      "cell_type": "code",
      "execution_count": null,
      "metadata": {
        "vscode": {
          "languageId": "python"
        }
      },
      "outputs": [],
      "source": []
    },
    {
      "cell_type": "markdown",
      "metadata": {
        "id": "Qw0oaj_uUDuU"
      },
      "source": [
        "## Question 3"
      ]
    },
    {
      "cell_type": "code",
      "execution_count": null,
      "metadata": {
        "vscode": {
          "languageId": "python"
        }
      },
      "outputs": [],
      "source": [
        "import numpy as np\n",
        "from PIL import Image\n",
        "import tensorflow as tf\n",
        "tf.config.experimental_run_functions_eagerly(True)\n",
        "tf.config.run_functions_eagerly(True)\n",
        "from tensorflow import keras\n",
        "from keras.models import Sequential\n",
        "from keras.layers import Dense, Flatten, Conv2D, MaxPooling2D,AveragePooling2D, Dropout\n",
        "from keras import layers, optimizers\n",
        "from tensorflow.keras.utils import to_categorical\n",
        "import numpy as np\n",
        "import matplotlib.pyplot as plt\n",
        "dataset_length=1000\n",
        "test_dataset_length=300"
      ]
    },
    {
      "cell_type": "code",
      "execution_count": null,
      "metadata": {
        "vscode": {
          "languageId": "python"
        }
      },
      "outputs": [],
      "source": [
        "def genImage():\n",
        "    array = np.random.randint(low=0, high=255,size=(5,5,1),dtype=np.uint8)\n",
        "    return array"
      ]
    },
    {
      "cell_type": "code",
      "execution_count": null,
      "metadata": {
        "vscode": {
          "languageId": "python"
        }
      },
      "outputs": [],
      "source": [
        "# Creating random labels\n",
        "labels = np.random.randint(2, size = (dataset_length,1),dtype=np.uint8)\n",
        "labels=np.array(labels)\n",
        "images=[]\n",
        "\n",
        "# Creating random images\n",
        "for i in range(dataset_length):\n",
        "  images.append(genImage())\n",
        "images=np.array(images)\n",
        "\n",
        "# shuffling arrays\n",
        "np.random.shuffle(labels)\n",
        "np.random.shuffle(images)"
      ]
    },
    {
      "cell_type": "code",
      "execution_count": null,
      "metadata": {
        "vscode": {
          "languageId": "python"
        }
      },
      "outputs": [],
      "source": [
        "# creating %30 test dataset\n",
        "test_label,train_label = labels[:test_dataset_length], labels[test_dataset_length:]\n",
        "test_image,train_image = images[:test_dataset_length], images[test_dataset_length:]"
      ]
    },
    {
      "cell_type": "code",
      "execution_count": null,
      "metadata": {
        "vscode": {
          "languageId": "python"
        }
      },
      "outputs": [],
      "source": [
        "#Get the shape of datasets\n",
        "print('train_image shape:', train_image.shape)\n",
        "print('train_label shape:', train_label.shape)\n",
        "print('test_image shape:', test_image.shape)\n",
        "print('test_label shape:', test_label.shape)"
      ]
    },
    {
      "cell_type": "code",
      "execution_count": null,
      "metadata": {
        "vscode": {
          "languageId": "python"
        }
      },
      "outputs": [],
      "source": [
        "# creating one hot encoding for 2 class\n",
        "train_label_one_hot = to_categorical(train_label)\n",
        "test_label_one_hot = to_categorical(test_label)"
      ]
    },
    {
      "cell_type": "code",
      "execution_count": null,
      "metadata": {
        "vscode": {
          "languageId": "python"
        }
      },
      "outputs": [],
      "source": [
        "# normalizing pixels\n",
        "train_image  = train_image / 255\n",
        "test_image  = test_image / 255"
      ]
    },
    {
      "cell_type": "code",
      "execution_count": null,
      "metadata": {
        "vscode": {
          "languageId": "python"
        }
      },
      "outputs": [],
      "source": [
        "# creating model\n",
        "model = Sequential()\n",
        "model.add(Conv2D(10, kernel_size=(2,2),  activation='relu',padding='same', input_shape=(5,5,1)))\n",
        "model.add(AveragePooling2D(pool_size=(2, 2),strides=(2,2)))\n",
        "model.add(Conv2D(20, kernel_size=(2,2), activation='relu',padding='same'))\n",
        "model.add(MaxPooling2D(pool_size=(2, 2),strides=(2,2)))\n",
        "model.add(Flatten())\n",
        "model.add(Dense(100, activation='relu'))\n",
        "model.add(Dropout(0.5))\n",
        "model.add(Dense(10, activation='relu'))\n",
        "model.add(Dense(2, activation='softmax'))\n",
        "model.summary()"
      ]
    },
    {
      "cell_type": "code",
      "execution_count": null,
      "metadata": {
        "vscode": {
          "languageId": "python"
        }
      },
      "outputs": [],
      "source": [
        "#compile the model\n",
        "model.compile(loss='categorical_crossentropy', \n",
        "              optimizer='adam',\n",
        "              metrics=['accuracy'])"
      ]
    },
    {
      "cell_type": "code",
      "execution_count": null,
      "metadata": {
        "vscode": {
          "languageId": "python"
        }
      },
      "outputs": [],
      "source": [
        "# train the model\n",
        "hist = model.fit(train_image, train_label_one_hot , \n",
        "           batch_size=32, epochs=20, validation_split=0.2 )"
      ]
    },
    {
      "cell_type": "code",
      "execution_count": null,
      "metadata": {
        "vscode": {
          "languageId": "python"
        }
      },
      "outputs": [],
      "source": [
        "# Evaluate the model\n",
        "model.evaluate(test_image, test_label_one_hot)[1]"
      ]
    },
    {
      "cell_type": "code",
      "execution_count": null,
      "metadata": {
        "vscode": {
          "languageId": "python"
        }
      },
      "outputs": [],
      "source": [
        "#Visualize the models accuracy\n",
        "plt.plot(hist.history['accuracy'])\n",
        "plt.plot(hist.history['val_accuracy'])\n",
        "plt.title('Model accuracy')\n",
        "plt.ylabel('Accuracy')\n",
        "plt.xlabel('Epoch')\n",
        "plt.legend(['Train', 'Val'], loc='upper left')\n",
        "plt.show()"
      ]
    },
    {
      "cell_type": "code",
      "execution_count": null,
      "metadata": {
        "vscode": {
          "languageId": "python"
        }
      },
      "outputs": [],
      "source": [
        "#Visualize the models loss\n",
        "plt.plot(hist.history['loss'])\n",
        "plt.plot(hist.history['val_loss'])\n",
        "plt.title('Model loss')\n",
        "plt.ylabel('Loss')\n",
        "plt.xlabel('Epoch')\n",
        "plt.legend(['Train', 'Val'], loc='upper right')\n",
        "plt.show()"
      ]
    }
  ],
  "metadata": {
    "accelerator": "GPU",
    "colab": {
      "collapsed_sections": [],
      "provenance": [],
      "toc_visible": true
    },
    "gpuClass": "standard",
    "kernelspec": {
      "display_name": "Python 3",
      "name": "python3"
    }
  },
  "nbformat": 4,
  "nbformat_minor": 0
}
