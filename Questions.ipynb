{
  "cells": [
    {
      "cell_type": "markdown",
      "metadata": {
        "id": "_WF95vvAN7Ee"
      },
      "source": [
        "## Question 1"
      ]
    },
    {
      "cell_type": "code",
      "execution_count": 1,
      "metadata": {
        "id": "NPRrnx-z_m5a",
        "vscode": {
          "languageId": "python"
        }
      },
      "outputs": [],
      "source": [
        "def countOccurance(mainArray, subArray):\n",
        "  # Define the window size\n",
        "  w = len(subArray)\n",
        "  # Number of occurance\n",
        "  count = 0\n",
        "  \n",
        "  # sliding window across the main array\n",
        "  for i in range(len(mainArray)-len(subArray)+1):\n",
        "    # Take elements from mainArray\n",
        "    search = []\n",
        "    for j in range(w):\n",
        "      search.append(mainArray[i+j])\n",
        "    # check if two array is equal\n",
        "    if isPattern(search, subArray):\n",
        "      count += 1    \n",
        "  return count"
      ]
    },
    {
      "cell_type": "code",
      "execution_count": 2,
      "metadata": {
        "id": "WNO8MTdz2TZr",
        "vscode": {
          "languageId": "python"
        }
      },
      "outputs": [],
      "source": [
        "def isPattern(search, subArray):\n",
        "    isValid=0\n",
        "    if len(search) != len(subArray):\n",
        "      return False\n",
        "    for i in range (len(subArray)):\n",
        "      if search[i]==subArray[i]:\n",
        "        isValid += 1\n",
        "    if isValid==len(subArray):\n",
        "      return True\n",
        "    return False"
      ]
    },
    {
      "cell_type": "code",
      "execution_count": 3,
      "metadata": {
        "colab": {
          "base_uri": "https://localhost:8080/"
        },
        "id": "qzDeG6P12p_E",
        "outputId": "2086951d-31d0-49e7-964b-fe1b4d0c1240",
        "vscode": {
          "languageId": "python"
        }
      },
      "outputs": [
        {
          "output_type": "stream",
          "name": "stdout",
          "text": [
            "1-b) Occurance of array B in array A is 4\n"
          ]
        }
      ],
      "source": [
        "A = [1,2,30,5,3,5, 70, 9, 1, 2, 30, 44, 25,56,56, 6, 1, 2, 30, 50, 43, 654, 1,2,30]\n",
        "B = [1, 2, 30]\n",
        "\n",
        "print(\"1-b) Occurance of array B in array A is \" + str(countOccurance(A, B)))"
      ]
    },
    {
      "cell_type": "code",
      "execution_count": 4,
      "metadata": {
        "colab": {
          "base_uri": "https://localhost:8080/"
        },
        "id": "JvHkvAnRCTO3",
        "outputId": "88238c26-1a79-41eb-8609-af559119ec87",
        "vscode": {
          "languageId": "python"
        }
      },
      "outputs": [
        {
          "output_type": "stream",
          "name": "stdout",
          "text": [
            "1-c) Occurance of array B in array A is 4\n"
          ]
        }
      ],
      "source": [
        "import numpy as np\n",
        "\n",
        "# Convert int array to string\n",
        "def listToString(s):\n",
        "    # mapping int to string\n",
        "    s=map(str, s)\n",
        "    # return string \n",
        "    return (', '.join(s))\n",
        "\n",
        "# convert B to string\n",
        "arr_B = listToString(B)\n",
        "  \n",
        "# Counting sequence\n",
        "output = repr(A).count(arr_B)\n",
        "  \n",
        "# view output\n",
        "print(\"1-c) Occurance of array B in array A is \" + str(output))"
      ]
    },
    {
      "cell_type": "markdown",
      "metadata": {
        "id": "JvfrCd72N1GJ"
      },
      "source": [
        "## Question 2"
      ]
    },
    {
      "cell_type": "code",
      "execution_count": 5,
      "metadata": {
        "id": "_SPy7t-rW2re",
        "vscode": {
          "languageId": "python"
        }
      },
      "outputs": [],
      "source": [
        "# 2-a)  if we want to use only one function from that library we can import only targeted function. \n",
        "#     We need to define variable X\n",
        "from math import ceil\n",
        "x=4.3\n",
        "x = ceil(x)"
      ]
    },
    {
      "cell_type": "code",
      "execution_count": 6,
      "metadata": {
        "id": "aAhnPprJYx4a",
        "vscode": {
          "languageId": "python"
        },
        "outputId": "28391173-74b4-4104-9cea-ae4e30dcbe16",
        "colab": {
          "base_uri": "https://localhost:8080/"
        }
      },
      "outputs": [
        {
          "output_type": "stream",
          "name": "stdout",
          "text": [
            "apple\n",
            "pear\n",
            "orange\n"
          ]
        }
      ],
      "source": [
        "# 2-b)  we can directly send each item to function.\n",
        "#     we need to define function\n",
        "def process_fruit(item):\n",
        "  print(item)\n",
        "list_of_fruits = [\"apple\", \"pear\", \"orange\"]\n",
        "for i in range(len(list_of_fruits)):\n",
        "  process_fruit(list_of_fruits[i])"
      ]
    },
    {
      "cell_type": "code",
      "execution_count": 7,
      "metadata": {
        "id": "TNu0YmOlZx5H",
        "vscode": {
          "languageId": "python"
        }
      },
      "outputs": [],
      "source": [
        "# 2-c) an object takes two variable to initiate (\"height\" and \"weight\"). Can give area with area() function \n",
        "class Rectangle:\n",
        "  def __init__(self, height, width):\n",
        "    self.height = height\n",
        "    self.width = width\n",
        "  def area(self):\n",
        "    return self.height * self.width"
      ]
    },
    {
      "cell_type": "code",
      "execution_count": 7,
      "metadata": {
        "vscode": {
          "languageId": "python"
        },
        "id": "siiTXWbzpCX5"
      },
      "outputs": [],
      "source": []
    },
    {
      "cell_type": "markdown",
      "metadata": {
        "id": "Qw0oaj_uUDuU"
      },
      "source": [
        "## Question 3"
      ]
    },
    {
      "cell_type": "code",
      "execution_count": 8,
      "metadata": {
        "vscode": {
          "languageId": "python"
        },
        "id": "hiiIZVAvpCX7",
        "outputId": "82b3f3c6-8757-4803-9b83-f1c0cd1f848b",
        "colab": {
          "base_uri": "https://localhost:8080/"
        }
      },
      "outputs": [
        {
          "output_type": "stream",
          "name": "stderr",
          "text": [
            "WARNING:tensorflow:From <ipython-input-8-ff2ac01eefe7>:4: experimental_run_functions_eagerly (from tensorflow.python.eager.def_function) is deprecated and will be removed in a future version.\n",
            "Instructions for updating:\n",
            "Use `tf.config.run_functions_eagerly` instead of the experimental version.\n"
          ]
        }
      ],
      "source": [
        "import numpy as np\n",
        "from PIL import Image\n",
        "import tensorflow as tf\n",
        "tf.config.experimental_run_functions_eagerly(True)\n",
        "tf.config.run_functions_eagerly(True)\n",
        "from tensorflow import keras\n",
        "from keras.models import Sequential\n",
        "from keras.layers import Dense, Flatten, Conv2D, MaxPooling2D,AveragePooling2D, Dropout\n",
        "from keras import layers, optimizers\n",
        "from tensorflow.keras.utils import to_categorical\n",
        "import numpy as np\n",
        "import matplotlib.pyplot as plt\n",
        "dataset_length=1000\n",
        "test_dataset_length=300"
      ]
    },
    {
      "cell_type": "code",
      "execution_count": 9,
      "metadata": {
        "vscode": {
          "languageId": "python"
        },
        "id": "GIsxS-Z_pCX7"
      },
      "outputs": [],
      "source": [
        "def genImage():\n",
        "    array = np.random.randint(low=0, high=255,size=(5,5,1),dtype=np.uint8)\n",
        "    return array"
      ]
    },
    {
      "cell_type": "code",
      "execution_count": 10,
      "metadata": {
        "vscode": {
          "languageId": "python"
        },
        "id": "hjqckx6FpCX9"
      },
      "outputs": [],
      "source": [
        "# Creating random labels\n",
        "labels = np.random.randint(2, size = (dataset_length,1),dtype=np.uint8)\n",
        "labels=np.array(labels)\n",
        "images=[]\n",
        "\n",
        "# Creating random images\n",
        "for i in range(dataset_length):\n",
        "  images.append(genImage())\n",
        "images=np.array(images)\n",
        "\n",
        "# shuffling arrays\n",
        "np.random.shuffle(labels)\n",
        "np.random.shuffle(images)"
      ]
    },
    {
      "cell_type": "code",
      "execution_count": 11,
      "metadata": {
        "vscode": {
          "languageId": "python"
        },
        "id": "GxPRfWADpCX-"
      },
      "outputs": [],
      "source": [
        "# creating %30 test dataset\n",
        "test_label,train_label = labels[:test_dataset_length], labels[test_dataset_length:]\n",
        "test_image,train_image = images[:test_dataset_length], images[test_dataset_length:]"
      ]
    },
    {
      "cell_type": "code",
      "execution_count": 12,
      "metadata": {
        "vscode": {
          "languageId": "python"
        },
        "id": "ycbevOizpCX-",
        "outputId": "94b123cd-1e6a-4239-a36a-b2edb47c0f8b",
        "colab": {
          "base_uri": "https://localhost:8080/"
        }
      },
      "outputs": [
        {
          "output_type": "stream",
          "name": "stdout",
          "text": [
            "train_image shape: (700, 5, 5, 1)\n",
            "train_label shape: (700, 1)\n",
            "test_image shape: (300, 5, 5, 1)\n",
            "test_label shape: (300, 1)\n"
          ]
        }
      ],
      "source": [
        "#Get the shape of datasets\n",
        "print('train_image shape:', train_image.shape)\n",
        "print('train_label shape:', train_label.shape)\n",
        "print('test_image shape:', test_image.shape)\n",
        "print('test_label shape:', test_label.shape)"
      ]
    },
    {
      "cell_type": "code",
      "execution_count": 13,
      "metadata": {
        "vscode": {
          "languageId": "python"
        },
        "id": "FP3CFCo1pCX_"
      },
      "outputs": [],
      "source": [
        "# creating one hot encoding for 2 class\n",
        "train_label_one_hot = to_categorical(train_label)\n",
        "test_label_one_hot = to_categorical(test_label)"
      ]
    },
    {
      "cell_type": "code",
      "execution_count": 14,
      "metadata": {
        "vscode": {
          "languageId": "python"
        },
        "id": "KjDLSuKYpCYA"
      },
      "outputs": [],
      "source": [
        "# normalizing pixels\n",
        "train_image  = train_image / 255\n",
        "test_image  = test_image / 255"
      ]
    },
    {
      "cell_type": "code",
      "execution_count": 15,
      "metadata": {
        "vscode": {
          "languageId": "python"
        },
        "id": "Ap3kKVgNpCYA",
        "outputId": "27a2bb30-bedc-4c30-d170-89c7b2e479c7",
        "colab": {
          "base_uri": "https://localhost:8080/"
        }
      },
      "outputs": [
        {
          "output_type": "stream",
          "name": "stdout",
          "text": [
            "Model: \"sequential\"\n",
            "_________________________________________________________________\n",
            " Layer (type)                Output Shape              Param #   \n",
            "=================================================================\n",
            " conv2d (Conv2D)             (None, 5, 5, 10)          50        \n",
            "                                                                 \n",
            " average_pooling2d (AverageP  (None, 2, 2, 10)         0         \n",
            " ooling2D)                                                       \n",
            "                                                                 \n",
            " conv2d_1 (Conv2D)           (None, 2, 2, 20)          820       \n",
            "                                                                 \n",
            " max_pooling2d (MaxPooling2D  (None, 1, 1, 20)         0         \n",
            " )                                                               \n",
            "                                                                 \n",
            " flatten (Flatten)           (None, 20)                0         \n",
            "                                                                 \n",
            " dense (Dense)               (None, 100)               2100      \n",
            "                                                                 \n",
            " dropout (Dropout)           (None, 100)               0         \n",
            "                                                                 \n",
            " dense_1 (Dense)             (None, 10)                1010      \n",
            "                                                                 \n",
            " dense_2 (Dense)             (None, 2)                 22        \n",
            "                                                                 \n",
            "=================================================================\n",
            "Total params: 4,002\n",
            "Trainable params: 4,002\n",
            "Non-trainable params: 0\n",
            "_________________________________________________________________\n"
          ]
        }
      ],
      "source": [
        "# creating model\n",
        "model = Sequential()\n",
        "model.add(Conv2D(10, kernel_size=(2,2),  activation='relu',padding='same', input_shape=(5,5,1)))\n",
        "model.add(AveragePooling2D(pool_size=(2, 2),strides=(2,2)))\n",
        "model.add(Conv2D(20, kernel_size=(2,2), activation='relu',padding='same'))\n",
        "model.add(MaxPooling2D(pool_size=(2, 2),strides=(2,2)))\n",
        "model.add(Flatten())\n",
        "model.add(Dense(100, activation='relu'))\n",
        "model.add(Dropout(0.5))\n",
        "model.add(Dense(10, activation='relu'))\n",
        "model.add(Dense(2, activation='softmax'))\n",
        "model.summary()"
      ]
    },
    {
      "cell_type": "code",
      "execution_count": 16,
      "metadata": {
        "vscode": {
          "languageId": "python"
        },
        "id": "ytAi-gh7pCYB"
      },
      "outputs": [],
      "source": [
        "#compile the model\n",
        "model.compile(loss='categorical_crossentropy', \n",
        "              optimizer='adam',\n",
        "              metrics=['accuracy'])\n",
        "\n",
        "# categorical_crossentropy is used as we have two output labels due to multi-class classification.\n",
        "# adam optimizer is used as it is suggested as the default optimization method for deep learning applications.\n",
        "# softmax is used for the last dense layer as it is used for multi-class classification problems "
      ]
    },
    {
      "cell_type": "code",
      "execution_count": 17,
      "metadata": {
        "vscode": {
          "languageId": "python"
        },
        "id": "7OSin4hbpCYB",
        "outputId": "53c5574b-89fa-4b87-ed3b-6a9c91a338cd",
        "colab": {
          "base_uri": "https://localhost:8080/"
        }
      },
      "outputs": [
        {
          "output_type": "stream",
          "name": "stderr",
          "text": [
            "/usr/local/lib/python3.7/dist-packages/tensorflow/python/data/ops/structured_function.py:265: UserWarning: Even though the `tf.config.experimental_run_functions_eagerly` option is set, this option does not apply to tf.data functions. To force eager execution of tf.data functions, please use `tf.data.experimental.enable_debug_mode()`.\n",
            "  \"Even though the `tf.config.experimental_run_functions_eagerly` \"\n"
          ]
        },
        {
          "output_type": "stream",
          "name": "stdout",
          "text": [
            "Epoch 1/20\n",
            "18/18 [==============================] - 13s 35ms/step - loss: 0.6925 - accuracy: 0.4911 - val_loss: 0.6946 - val_accuracy: 0.4929\n",
            "Epoch 2/20\n",
            "18/18 [==============================] - 0s 24ms/step - loss: 0.6920 - accuracy: 0.5429 - val_loss: 0.6980 - val_accuracy: 0.4929\n",
            "Epoch 3/20\n",
            "18/18 [==============================] - 0s 24ms/step - loss: 0.6906 - accuracy: 0.5357 - val_loss: 0.6981 - val_accuracy: 0.4929\n",
            "Epoch 4/20\n",
            "18/18 [==============================] - 0s 23ms/step - loss: 0.6932 - accuracy: 0.5411 - val_loss: 0.6977 - val_accuracy: 0.4929\n",
            "Epoch 5/20\n",
            "18/18 [==============================] - 0s 24ms/step - loss: 0.6914 - accuracy: 0.5411 - val_loss: 0.6969 - val_accuracy: 0.4929\n",
            "Epoch 6/20\n",
            "18/18 [==============================] - 0s 23ms/step - loss: 0.6922 - accuracy: 0.5286 - val_loss: 0.6979 - val_accuracy: 0.4929\n",
            "Epoch 7/20\n",
            "18/18 [==============================] - 0s 24ms/step - loss: 0.6926 - accuracy: 0.5321 - val_loss: 0.6960 - val_accuracy: 0.4929\n",
            "Epoch 8/20\n",
            "18/18 [==============================] - 0s 24ms/step - loss: 0.6894 - accuracy: 0.5446 - val_loss: 0.6976 - val_accuracy: 0.4929\n",
            "Epoch 9/20\n",
            "18/18 [==============================] - 0s 23ms/step - loss: 0.6900 - accuracy: 0.5429 - val_loss: 0.6974 - val_accuracy: 0.4929\n",
            "Epoch 10/20\n",
            "18/18 [==============================] - 0s 24ms/step - loss: 0.6894 - accuracy: 0.5429 - val_loss: 0.6957 - val_accuracy: 0.4929\n",
            "Epoch 11/20\n",
            "18/18 [==============================] - 0s 23ms/step - loss: 0.6898 - accuracy: 0.5446 - val_loss: 0.6955 - val_accuracy: 0.4929\n",
            "Epoch 12/20\n",
            "18/18 [==============================] - 0s 25ms/step - loss: 0.6883 - accuracy: 0.5411 - val_loss: 0.6965 - val_accuracy: 0.4929\n",
            "Epoch 13/20\n",
            "18/18 [==============================] - 0s 23ms/step - loss: 0.6897 - accuracy: 0.5429 - val_loss: 0.6968 - val_accuracy: 0.4929\n",
            "Epoch 14/20\n",
            "18/18 [==============================] - 0s 23ms/step - loss: 0.6916 - accuracy: 0.5429 - val_loss: 0.6963 - val_accuracy: 0.4929\n",
            "Epoch 15/20\n",
            "18/18 [==============================] - 0s 23ms/step - loss: 0.6911 - accuracy: 0.5429 - val_loss: 0.6978 - val_accuracy: 0.4929\n",
            "Epoch 16/20\n",
            "18/18 [==============================] - 0s 23ms/step - loss: 0.6885 - accuracy: 0.5429 - val_loss: 0.6984 - val_accuracy: 0.4929\n",
            "Epoch 17/20\n",
            "18/18 [==============================] - 0s 23ms/step - loss: 0.6884 - accuracy: 0.5429 - val_loss: 0.6975 - val_accuracy: 0.4929\n",
            "Epoch 18/20\n",
            "18/18 [==============================] - 0s 24ms/step - loss: 0.6881 - accuracy: 0.5429 - val_loss: 0.6987 - val_accuracy: 0.4929\n",
            "Epoch 19/20\n",
            "18/18 [==============================] - 0s 24ms/step - loss: 0.6888 - accuracy: 0.5429 - val_loss: 0.6982 - val_accuracy: 0.4929\n",
            "Epoch 20/20\n",
            "18/18 [==============================] - 0s 23ms/step - loss: 0.6884 - accuracy: 0.5429 - val_loss: 0.6976 - val_accuracy: 0.4929\n"
          ]
        }
      ],
      "source": [
        "# train the model\n",
        "hist = model.fit(train_image, train_label_one_hot , \n",
        "           batch_size=32, epochs=20, validation_split=0.2 )"
      ]
    },
    {
      "cell_type": "code",
      "execution_count": 18,
      "metadata": {
        "vscode": {
          "languageId": "python"
        },
        "id": "0IyJyMjfpCYB",
        "outputId": "e28ee0dc-7d7a-4244-8539-be3bfcda324a",
        "colab": {
          "base_uri": "https://localhost:8080/"
        }
      },
      "outputs": [
        {
          "output_type": "stream",
          "name": "stdout",
          "text": [
            "10/10 [==============================] - 0s 11ms/step - loss: 0.6973 - accuracy: 0.4933\n"
          ]
        },
        {
          "output_type": "execute_result",
          "data": {
            "text/plain": [
              "0.4933333396911621"
            ]
          },
          "metadata": {},
          "execution_count": 18
        }
      ],
      "source": [
        "# Evaluate the model\n",
        "model.evaluate(test_image, test_label_one_hot)[1]"
      ]
    },
    {
      "cell_type": "code",
      "execution_count": 19,
      "metadata": {
        "vscode": {
          "languageId": "python"
        },
        "id": "7uLFSwp2pCYC",
        "outputId": "005a20f7-7317-47b0-b430-6d0c886d9101",
        "colab": {
          "base_uri": "https://localhost:8080/",
          "height": 295
        }
      },
      "outputs": [
        {
          "output_type": "display_data",
          "data": {
            "text/plain": [
              "<Figure size 432x288 with 1 Axes>"
            ],
            "image/png": "[encoded data removed]"
          },
          "metadata": {
            "needs_background": "light"
          }
        }
      ],
      "source": [
        "#Visualize the models accuracy\n",
        "plt.plot(hist.history['accuracy'])\n",
        "plt.plot(hist.history['val_accuracy'])\n",
        "plt.title('Model accuracy')\n",
        "plt.ylabel('Accuracy')\n",
        "plt.xlabel('Epoch')\n",
        "plt.legend(['Train', 'Val'], loc='upper left')\n",
        "plt.show()"
      ]
    },
    {
      "cell_type": "code",
      "execution_count": 20,
      "metadata": {
        "vscode": {
          "languageId": "python"
        },
        "id": "4ZpmzoqXpCYC",
        "outputId": "a4206bab-9bfc-4f2c-9ed8-4dd49ed29694",
        "colab": {
          "base_uri": "https://localhost:8080/",
          "height": 295
        }
      },
      "outputs": [
        {
          "output_type": "display_data",
          "data": {
            "text/plain": [
              "<Figure size 432x288 with 1 Axes>"
            ],
            "image/png": "[encoded data removed]"
          },
          "metadata": {
            "needs_background": "light"
          }
        }
      ],
      "source": [
        "#Visualize the models loss\n",
        "plt.plot(hist.history['loss'])\n",
        "plt.plot(hist.history['val_loss'])\n",
        "plt.title('Model loss')\n",
        "plt.ylabel('Loss')\n",
        "plt.xlabel('Epoch')\n",
        "plt.legend(['Train', 'Val'], loc='upper right')\n",
        "plt.show()"
      ]
    }
  ],
  "metadata": {
    "accelerator": "GPU",
    "colab": {
      "collapsed_sections": [],
      "provenance": [],
      "toc_visible": true
    },
    "gpuClass": "standard",
    "kernelspec": {
      "display_name": "Python 3",
      "name": "python3"
    }
  },
  "nbformat": 4,
  "nbformat_minor": 0
}