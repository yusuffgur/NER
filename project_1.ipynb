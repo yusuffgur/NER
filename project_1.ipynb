{
  "cells": [
    {
      "cell_type": "markdown",
      "source": [
        "## Question 1"
      ],
      "metadata": {
        "id": "_WF95vvAN7Ee"
      }
    },
    {
      "cell_type": "code",
      "source": [
        "def countOccurance(mainArray, subArray):\n",
        "  # Define the window size\n",
        "  w = len(subArray)\n",
        "  # Number of occurance\n",
        "  count = 0\n",
        "  \n",
        "  # sliding window across the main array\n",
        "  for i in range(len(mainArray)-len(subArray)+1):\n",
        "    # Take elements from mainArray\n",
        "    search = []\n",
        "    for j in range(w):\n",
        "      search.append(mainArray[i+j])\n",
        "    # check if two array is equal\n",
        "    if isPattern(search, subArray):\n",
        "      count += 1    \n",
        "  return count"
      ],
      "metadata": {
        "id": "NPRrnx-z_m5a"
      },
      "execution_count": null,
      "outputs": []
    },
    {
      "cell_type": "code",
      "source": [
        "def isPattern(search, subArray):\n",
        "    isValid=0\n",
        "    if len(search) != len(subArray):\n",
        "      return False\n",
        "    for i in range (len(subArray)):\n",
        "      if search[i]==subArray[i]:\n",
        "        isValid += 1\n",
        "    if isValid==len(subArray):\n",
        "      return True\n",
        "    return False"
      ],
      "metadata": {
        "id": "WNO8MTdz2TZr"
      },
      "execution_count": null,
      "outputs": []
    },
    {
      "cell_type": "code",
      "source": [
        "A = [1,2,30,5,3,5, 70, 9, 1, 2, 30, 44, 25,56,56, 6, 1, 2, 30, 50, 43, 654, 1,2,30]\n",
        "B = [1, 2, 30]\n",
        "\n",
        "print(\"1-b) Occurance of array B in array A is \" + str(countOccurance(A, B)))"
      ],
      "metadata": {
        "colab": {
          "base_uri": "https://localhost:8080/"
        },
        "id": "qzDeG6P12p_E",
        "outputId": "e792e152-59f9-43ef-ee7f-23bc9b404051"
      },
      "execution_count": null,
      "outputs": [
        {
          "output_type": "stream",
          "name": "stdout",
          "text": [
            "b) Occurance of array B in array A is 4\n"
          ]
        }
      ]
    },
    {
      "cell_type": "code",
      "source": [
        "import numpy as np\n",
        "\n",
        "# Convert int array to string\n",
        "def listToString(s):\n",
        "    # mapping int to string\n",
        "    s=map(str, s)\n",
        "    # return string \n",
        "    return (', '.join(s))\n",
        "\n",
        "# convert B to string\n",
        "arr_B = listToString(B)\n",
        "  \n",
        "# Counting sequence\n",
        "output = repr(A).count(arr_B)\n",
        "  \n",
        "# view output\n",
        "print(\"1-c) Occurance of array B in array A is \" + str(output))"
      ],
      "metadata": {
        "colab": {
          "base_uri": "https://localhost:8080/"
        },
        "id": "JvHkvAnRCTO3",
        "outputId": "03cc821f-b7eb-4dc2-8d1f-b38ffada8da7"
      },
      "execution_count": null,
      "outputs": [
        {
          "output_type": "stream",
          "name": "stdout",
          "text": [
            "c) Occurance of array B in array A is 4\n"
          ]
        }
      ]
    },
    {
      "cell_type": "markdown",
      "source": [
        "## Question 2"
      ],
      "metadata": {
        "id": "JvfrCd72N1GJ"
      }
    },
    {
      "cell_type": "code",
      "source": [
        "# 2-a)  if we want to use only one function from that library we can import only targeted function. \n",
        "#     We need to define variable X\n",
        "from math import ceil\n",
        "x=4.3\n",
        "x = ceil(x)"
      ],
      "metadata": {
        "id": "_SPy7t-rW2re"
      },
      "execution_count": null,
      "outputs": []
    },
    {
      "cell_type": "code",
      "source": [
        "# 2-b)  we can directly send each item to function.\n",
        "#     we need to define function\n",
        "def process_fruit(item):\n",
        "  print(item)\n",
        "list_of_fruits = [\"apple\", \"pear\", \"orange\"]\n",
        "for i in range(len(list_of_fruits)):\n",
        "  process_fruit(list_of_fruits[i])"
      ],
      "metadata": {
        "id": "aAhnPprJYx4a"
      },
      "execution_count": null,
      "outputs": []
    },
    {
      "cell_type": "code",
      "source": [
        "# 2-c) an object takes two variable to initiate (\"height\" and \"weight\"). Can give area with area() function \n",
        "class Rectangle:\n",
        "  def __init__(self, height, width):\n",
        "    self.height = height\n",
        "    self.width = width\n",
        "  def area(self):\n",
        "    return self.height * self.width"
      ],
      "metadata": {
        "id": "TNu0YmOlZx5H"
      },
      "execution_count": null,
      "outputs": []
    },
    {
      "cell_type": "markdown",
      "source": [
        "## Question 3"
      ],
      "metadata": {
        "id": "Qw0oaj_uUDuU"
      }
    },
    {
      "cell_type": "code",
      "source": [
        "import keras\n",
        "from keras.models import Sequential\n",
        "from keras.layers import Dense, Flatten\n",
        "from keras.layers import Conv2D, MaxPooling2D, AveragePooling2D\n",
        "\n",
        "img_rows, img_cols = 5, 5\n",
        "input_shape = (img_rows, img_cols, 1)\n",
        "\n",
        "cnn = Sequential([\n",
        "    Conv2D(2, kernel_size=(2,2), activation='relu',padding='same',input_shape=input_shape),\n",
        "    MaxPooling2D(pool_size=(2,2),strides=2),\n",
        "    Conv2D(2, kernel_size=(2,2), activation='relu',padding='same'),\n",
        "    AveragePooling2D(pool_size=(2,2),strides=2),\n",
        "    Flatten(),\n",
        "    Dense(10, activation='relu'),\n",
        "    Dense(4, activation='relu'),\n",
        "    Dense(2, activation='softmax')\n",
        "])\n",
        "\n",
        "cnn.compile(loss=keras.losses.categorical_crossentropy,\n",
        "              optimizer=keras.optimizers.adam_v2.Adam(),\n",
        "              metrics=['accuracy'])\n"
      ],
      "metadata": {
        "id": "vjo3PhlzOqEO"
      },
      "execution_count": null,
      "outputs": []
    },
    {
      "cell_type": "code",
      "source": [
        "cnn.summary()"
      ],
      "metadata": {
        "colab": {
          "base_uri": "https://localhost:8080/"
        },
        "id": "HV-HxjUDR3O7",
        "outputId": "ca19d71f-c041-47fd-b853-989170395065"
      },
      "execution_count": null,
      "outputs": [
        {
          "output_type": "stream",
          "name": "stdout",
          "text": [
            "Model: \"sequential_23\"\n",
            "_________________________________________________________________\n",
            " Layer (type)                Output Shape              Param #   \n",
            "=================================================================\n",
            " conv2d_44 (Conv2D)          (None, 5, 5, 2)           10        \n",
            "                                                                 \n",
            " max_pooling2d_22 (MaxPoolin  (None, 2, 2, 2)          0         \n",
            " g2D)                                                            \n",
            "                                                                 \n",
            " conv2d_45 (Conv2D)          (None, 2, 2, 2)           18        \n",
            "                                                                 \n",
            " average_pooling2d_20 (Avera  (None, 1, 1, 2)          0         \n",
            " gePooling2D)                                                    \n",
            "                                                                 \n",
            " flatten_15 (Flatten)        (None, 2)                 0         \n",
            "                                                                 \n",
            " dense_34 (Dense)            (None, 10)                30        \n",
            "                                                                 \n",
            " dense_35 (Dense)            (None, 4)                 44        \n",
            "                                                                 \n",
            " dense_36 (Dense)            (None, 2)                 10        \n",
            "                                                                 \n",
            "=================================================================\n",
            "Total params: 112\n",
            "Trainable params: 112\n",
            "Non-trainable params: 0\n",
            "_________________________________________________________________\n"
          ]
        }
      ]
    },
    {
      "cell_type": "code",
      "source": [
        "# creating random images and labeling them\n",
        "import numpy as np\n",
        "from PIL import Image\n",
        "random_array = np.random.randint(low=0, high=255,size=(250,250),dtype=np.uint8)\n",
        "random_im = Image.fromarray(random_array)\n",
        "random_im.show()"
      ],
      "metadata": {
        "id": "-Y4dvXCixTCo"
      },
      "execution_count": null,
      "outputs": []
    }
  ],
  "metadata": {
    "colab": {
      "collapsed_sections": [],
      "toc_visible": true,
      "provenance": []
    },
    "kernelspec": {
      "display_name": "Python 3",
      "name": "python3"
    },
    "accelerator": "GPU",
    "gpuClass": "standard"
  },
  "nbformat": 4,
  "nbformat_minor": 0
}