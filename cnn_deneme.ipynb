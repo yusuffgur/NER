{
  "cells": [
    {
      "cell_type": "markdown",
      "metadata": {
        "id": "view-in-github",
        "colab_type": "text"
      },
      "source": [
        "<a href=\"https://colab.research.google.com/github/yusuffgur/NER/blob/main/cnn_deneme.ipynb\" target=\"_parent\"><img src=\"https://colab.research.google.com/assets/colab-badge.svg\" alt=\"Open In Colab\"/></a>"
      ]
    },
    {
      "cell_type": "code",
      "source": [
        "import numpy as np\n",
        "from PIL import Image\n",
        "\n",
        "import torch\n",
        "from torch.utils.data import Dataset, DataLoader\n",
        "from torch import nn\n",
        "from torchvision import transforms"
      ],
      "metadata": {
        "id": "5lwqt24edaTp"
      },
      "execution_count": 2,
      "outputs": []
    },
    {
      "cell_type": "code",
      "source": [
        "import matplotlib.pyplot as plt\n",
        "plt.style.use('fivethirtyeight')"
      ],
      "metadata": {
        "id": "3Mct2rZkjVvZ"
      },
      "execution_count": 48,
      "outputs": []
    },
    {
      "cell_type": "code",
      "source": [
        "dataset_length=1000"
      ],
      "metadata": {
        "id": "RCudCIUueQyI"
      },
      "execution_count": 6,
      "outputs": []
    },
    {
      "cell_type": "code",
      "source": [
        "def genImage():\n",
        "  return np.random.randint(low=0, high=255,size=(5,5,1),dtype=np.uint8)"
      ],
      "metadata": {
        "id": "Af8lFqIidfMZ"
      },
      "execution_count": 60,
      "outputs": []
    },
    {
      "cell_type": "code",
      "source": [
        "labels = np.random.randint(2, size = dataset_length)\n",
        "images=[]\n",
        "for i in range(dataset_length):\n",
        "  images.append(genImage())\n",
        "images=np.array(images)\n",
        "\n",
        "np.random.shuffle(labels)\n",
        "np.random.shuffle(images)\n",
        "\n"
      ],
      "metadata": {
        "id": "8GR767egeLuR"
      },
      "execution_count": 61,
      "outputs": []
    },
    {
      "cell_type": "code",
      "source": [
        "train_label, test_label = labels[:300], labels[300:]\n",
        "train_image, test_image = images[:300,:], images[300:,:]"
      ],
      "metadata": {
        "id": "K51r4ohuhGI9"
      },
      "execution_count": 62,
      "outputs": []
    },
    {
      "cell_type": "code",
      "source": [
        "#Print the data type of train_image\n",
        "print(type(train_image))\n",
        "#Print the data type of train_label\n",
        "print(type(train_label))\n",
        "#Print the data type of test_image\n",
        "print(type(test_image))\n",
        "#Print the data type of test_label\n",
        "print(type(test_label))\n",
        "#Print the data type of images\n",
        "print(type(images))\n",
        "#Print the data type of labels\n",
        "print(type(labels))"
      ],
      "metadata": {
        "id": "37JqKXKVfXOG",
        "outputId": "ce5024cc-154c-49a5-c188-f9e999829b14",
        "colab": {
          "base_uri": "https://localhost:8080/"
        }
      },
      "execution_count": 63,
      "outputs": [
        {
          "output_type": "stream",
          "name": "stdout",
          "text": [
            "<class 'numpy.ndarray'>\n",
            "<class 'numpy.ndarray'>\n",
            "<class 'numpy.ndarray'>\n",
            "<class 'numpy.ndarray'>\n",
            "<class 'numpy.ndarray'>\n",
            "<class 'numpy.ndarray'>\n"
          ]
        }
      ]
    },
    {
      "cell_type": "code",
      "source": [
        "#Get the shape of x_train\n",
        "print('train_image shape:', train_image.shape)\n",
        "#Get the shape of y_train\n",
        "print('train_label shape:', train_label.shape)\n",
        "#Get the shape of x_train\n",
        "print('test_image shape:', test_image.shape)\n",
        "#Get the shape of y_train\n",
        "print('test_label shape:', test_label.shape)"
      ],
      "metadata": {
        "id": "TPFm8H6NcdBs",
        "outputId": "c1086e4f-b965-4c64-e75a-c716222c0824",
        "colab": {
          "base_uri": "https://localhost:8080/"
        }
      },
      "execution_count": 64,
      "outputs": [
        {
          "output_type": "stream",
          "name": "stdout",
          "text": [
            "train_image shape: (300, 5, 5, 1)\n",
            "train_label shape: (300,)\n",
            "test_image shape: (700, 5, 5, 1)\n",
            "test_label shape: (700,)\n"
          ]
        }
      ]
    },
    {
      "cell_type": "code",
      "source": [
        "train_image  = train_image / 255\n",
        "test_image  = test_image / 255"
      ],
      "metadata": {
        "id": "WeLSKfORksZ4"
      },
      "execution_count": 69,
      "outputs": []
    }
  ],
  "metadata": {
    "colab": {
      "collapsed_sections": [],
      "name": "Colaboratory'ye Hoş Geldiniz",
      "toc_visible": true,
      "provenance": [],
      "include_colab_link": true
    },
    "kernelspec": {
      "display_name": "Python 3",
      "name": "python3"
    }
  },
  "nbformat": 4,
  "nbformat_minor": 0
}